{
 "cells": [
  {
   "cell_type": "code",
   "execution_count": 1,
   "id": "00a8717e-eb01-438b-8793-641416de75a1",
   "metadata": {},
   "outputs": [
    {
     "data": {
      "text/html": [
       "<div>\n",
       "<style scoped>\n",
       "    .dataframe tbody tr th:only-of-type {\n",
       "        vertical-align: middle;\n",
       "    }\n",
       "\n",
       "    .dataframe tbody tr th {\n",
       "        vertical-align: top;\n",
       "    }\n",
       "\n",
       "    .dataframe thead th {\n",
       "        text-align: right;\n",
       "    }\n",
       "</style>\n",
       "<table border=\"1\" class=\"dataframe\">\n",
       "  <thead>\n",
       "    <tr style=\"text-align: right;\">\n",
       "      <th></th>\n",
       "      <th>Date</th>\n",
       "      <th>#Passengers</th>\n",
       "    </tr>\n",
       "  </thead>\n",
       "  <tbody>\n",
       "    <tr>\n",
       "      <th>0</th>\n",
       "      <td>1/1/1949</td>\n",
       "      <td>112</td>\n",
       "    </tr>\n",
       "    <tr>\n",
       "      <th>1</th>\n",
       "      <td>2/1/1949</td>\n",
       "      <td>118</td>\n",
       "    </tr>\n",
       "    <tr>\n",
       "      <th>2</th>\n",
       "      <td>3/1/1949</td>\n",
       "      <td>132</td>\n",
       "    </tr>\n",
       "    <tr>\n",
       "      <th>3</th>\n",
       "      <td>4/1/1949</td>\n",
       "      <td>129</td>\n",
       "    </tr>\n",
       "    <tr>\n",
       "      <th>4</th>\n",
       "      <td>5/1/1949</td>\n",
       "      <td>121</td>\n",
       "    </tr>\n",
       "  </tbody>\n",
       "</table>\n",
       "</div>"
      ],
      "text/plain": [
       "       Date  #Passengers\n",
       "0  1/1/1949          112\n",
       "1  2/1/1949          118\n",
       "2  3/1/1949          132\n",
       "3  4/1/1949          129\n",
       "4  5/1/1949          121"
      ]
     },
     "execution_count": 1,
     "metadata": {},
     "output_type": "execute_result"
    }
   ],
   "source": [
    "### load your data\n",
    "import pandas as pd\n",
    "\n",
    "df = pd.read_csv('./datasets/Air_Passengers.csv')\n",
    "df.head()"
   ]
  },
  {
   "cell_type": "code",
   "execution_count": 2,
   "id": "cc9ffc6a-c921-4f16-b0c2-56bca03984ab",
   "metadata": {},
   "outputs": [],
   "source": [
    "### define target variables, covariates and timefeat\n",
    "### there can be multiple target variables, covariates, but only one timefeat is allowed\n",
    "### timefeat can also be empty, i.e., timefeat=''\n",
    "targets = ['#Passengers']\n",
    "covariates = []\n",
    "timefeat = 'Date'\n",
    "\n",
    "###define prediction length\n",
    "pred_len = 48\n",
    "###define prediction start step, it's N to last step in your data\n",
    "pred_start = 12\n",
    "\n",
    "###choose GTT model variant\n",
    "modelchoice = 'small'\n",
    "modelpath = f'./checkpoints/GTT-{modelchoice}'\n",
    "\n",
    "###whether do 1-order difference before prediction, sometimes set autodiff=True will boost prediction accuracy\n",
    "autodiff = False"
   ]
  },
  {
   "cell_type": "code",
   "execution_count": null,
   "id": "d03f76cf-5785-4b16-9de5-50b5aa572b72",
   "metadata": {},
   "outputs": [],
   "source": [
    "###use GTT model to conduct forecast, and plot results\n",
    "from src.apis import zeroshot_api\n",
    "res = zeroshot_api.forecast(df, targets, covariates, timefeat, pred_len, pred_start, modelpath, autodiff=autodiff)\n",
    "if res['ret'] == 'success':\n",
    "    zeroshot_api.plot_res(res)\n",
    "else:\n",
    "    print(res)"
   ]
  },
  {
   "cell_type": "code",
   "execution_count": null,
   "id": "86cfb967-4e6c-4f23-872e-de9b1c107e66",
   "metadata": {},
   "outputs": [],
   "source": []
  }
 ],
 "metadata": {
  "kernelspec": {
   "display_name": "Python 3 (ipykernel)",
   "language": "python",
   "name": "python3"
  },
  "language_info": {
   "codemirror_mode": {
    "name": "ipython",
    "version": 3
   },
   "file_extension": ".py",
   "mimetype": "text/x-python",
   "name": "python",
   "nbconvert_exporter": "python",
   "pygments_lexer": "ipython3",
   "version": "3.9.17"
  }
 },
 "nbformat": 4,
 "nbformat_minor": 5
}
